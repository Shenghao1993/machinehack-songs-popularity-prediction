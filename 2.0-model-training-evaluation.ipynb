{
 "cells": [
  {
   "cell_type": "code",
   "execution_count": 1,
   "metadata": {},
   "outputs": [],
   "source": [
    "import json\n",
    "import time\n",
    "import warnings\n",
    "import numpy as np\n",
    "import pandas as pd\n",
    "import matplotlib.pyplot as plt\n",
    "from helpers import Preprocessor, ModelWorker\n",
    "from sklearn.linear_model import LinearRegression, Lasso\n",
    "from sklearn.ensemble import RandomForestRegressor\n",
    "from xgboost import XGBRegressor\n",
    "\n",
    "%matplotlib inline\n",
    "plt.style.use('bmh')\n",
    "warnings.filterwarnings('ignore')"
   ]
  },
  {
   "cell_type": "markdown",
   "metadata": {},
   "source": [
    "# I. Acquire Training Data"
   ]
  },
  {
   "cell_type": "code",
   "execution_count": 2,
   "metadata": {},
   "outputs": [
    {
     "name": "stdout",
     "output_type": "stream",
     "text": [
      "Dimension of training data:  (78458, 18)\n",
      "Dimension of test data:  (19615, 16)\n"
     ]
    },
    {
     "data": {
      "text/html": [
       "<div>\n",
       "<style scoped>\n",
       "    .dataframe tbody tr th:only-of-type {\n",
       "        vertical-align: middle;\n",
       "    }\n",
       "\n",
       "    .dataframe tbody tr th {\n",
       "        vertical-align: top;\n",
       "    }\n",
       "\n",
       "    .dataframe thead th {\n",
       "        text-align: right;\n",
       "    }\n",
       "</style>\n",
       "<table border=\"1\" class=\"dataframe\">\n",
       "  <thead>\n",
       "    <tr style=\"text-align: right;\">\n",
       "      <th></th>\n",
       "      <th>Unique_ID</th>\n",
       "      <th>Views</th>\n",
       "      <th>Log_Views</th>\n",
       "      <th>Log_Comments</th>\n",
       "      <th>Log_Likes</th>\n",
       "      <th>Log_Popularity</th>\n",
       "      <th>Log_Followers</th>\n",
       "      <th>Categorical_Genre_0</th>\n",
       "      <th>Categorical_Genre_1</th>\n",
       "      <th>Categorical_Genre_2</th>\n",
       "      <th>Categorical_Genre_3</th>\n",
       "      <th>Categorical_Year_0</th>\n",
       "      <th>Categorical_Year_1</th>\n",
       "      <th>Categorical_Year_2</th>\n",
       "      <th>Categorical_Month_0</th>\n",
       "      <th>Categorical_Month_1</th>\n",
       "      <th>Categorical_Month_2</th>\n",
       "      <th>Categorical_Month_3</th>\n",
       "    </tr>\n",
       "  </thead>\n",
       "  <tbody>\n",
       "    <tr>\n",
       "      <th>0</th>\n",
       "      <td>413890</td>\n",
       "      <td>14017</td>\n",
       "      <td>9.548097</td>\n",
       "      <td>1.609438</td>\n",
       "      <td>6.214608</td>\n",
       "      <td>4.584967</td>\n",
       "      <td>11.691607</td>\n",
       "      <td>0</td>\n",
       "      <td>1</td>\n",
       "      <td>0</td>\n",
       "      <td>0</td>\n",
       "      <td>0</td>\n",
       "      <td>0</td>\n",
       "      <td>1</td>\n",
       "      <td>0</td>\n",
       "      <td>1</td>\n",
       "      <td>0</td>\n",
       "      <td>0</td>\n",
       "    </tr>\n",
       "    <tr>\n",
       "      <th>1</th>\n",
       "      <td>249453</td>\n",
       "      <td>1918</td>\n",
       "      <td>7.559559</td>\n",
       "      <td>2.890372</td>\n",
       "      <td>3.912023</td>\n",
       "      <td>2.890372</td>\n",
       "      <td>7.669495</td>\n",
       "      <td>0</td>\n",
       "      <td>1</td>\n",
       "      <td>0</td>\n",
       "      <td>0</td>\n",
       "      <td>0</td>\n",
       "      <td>1</td>\n",
       "      <td>0</td>\n",
       "      <td>0</td>\n",
       "      <td>0</td>\n",
       "      <td>1</td>\n",
       "      <td>0</td>\n",
       "    </tr>\n",
       "    <tr>\n",
       "      <th>2</th>\n",
       "      <td>681116</td>\n",
       "      <td>9668</td>\n",
       "      <td>9.176680</td>\n",
       "      <td>2.484907</td>\n",
       "      <td>5.746203</td>\n",
       "      <td>4.521789</td>\n",
       "      <td>10.010052</td>\n",
       "      <td>0</td>\n",
       "      <td>1</td>\n",
       "      <td>0</td>\n",
       "      <td>0</td>\n",
       "      <td>1</td>\n",
       "      <td>0</td>\n",
       "      <td>0</td>\n",
       "      <td>0</td>\n",
       "      <td>1</td>\n",
       "      <td>0</td>\n",
       "      <td>0</td>\n",
       "    </tr>\n",
       "    <tr>\n",
       "      <th>3</th>\n",
       "      <td>387253</td>\n",
       "      <td>113036</td>\n",
       "      <td>11.635470</td>\n",
       "      <td>1.098612</td>\n",
       "      <td>7.783641</td>\n",
       "      <td>4.343805</td>\n",
       "      <td>12.883233</td>\n",
       "      <td>1</td>\n",
       "      <td>0</td>\n",
       "      <td>0</td>\n",
       "      <td>0</td>\n",
       "      <td>0</td>\n",
       "      <td>1</td>\n",
       "      <td>0</td>\n",
       "      <td>0</td>\n",
       "      <td>0</td>\n",
       "      <td>1</td>\n",
       "      <td>0</td>\n",
       "    </tr>\n",
       "    <tr>\n",
       "      <th>4</th>\n",
       "      <td>1428029</td>\n",
       "      <td>110024</td>\n",
       "      <td>11.608463</td>\n",
       "      <td>4.406719</td>\n",
       "      <td>8.016978</td>\n",
       "      <td>6.551080</td>\n",
       "      <td>12.211214</td>\n",
       "      <td>0</td>\n",
       "      <td>1</td>\n",
       "      <td>0</td>\n",
       "      <td>0</td>\n",
       "      <td>0</td>\n",
       "      <td>1</td>\n",
       "      <td>0</td>\n",
       "      <td>0</td>\n",
       "      <td>0</td>\n",
       "      <td>0</td>\n",
       "      <td>1</td>\n",
       "    </tr>\n",
       "  </tbody>\n",
       "</table>\n",
       "</div>"
      ],
      "text/plain": [
       "   Unique_ID   Views  Log_Views  Log_Comments  Log_Likes  Log_Popularity  \\\n",
       "0     413890   14017   9.548097      1.609438   6.214608        4.584967   \n",
       "1     249453    1918   7.559559      2.890372   3.912023        2.890372   \n",
       "2     681116    9668   9.176680      2.484907   5.746203        4.521789   \n",
       "3     387253  113036  11.635470      1.098612   7.783641        4.343805   \n",
       "4    1428029  110024  11.608463      4.406719   8.016978        6.551080   \n",
       "\n",
       "   Log_Followers  Categorical_Genre_0  Categorical_Genre_1  \\\n",
       "0      11.691607                    0                    1   \n",
       "1       7.669495                    0                    1   \n",
       "2      10.010052                    0                    1   \n",
       "3      12.883233                    1                    0   \n",
       "4      12.211214                    0                    1   \n",
       "\n",
       "   Categorical_Genre_2  Categorical_Genre_3  Categorical_Year_0  \\\n",
       "0                    0                    0                   0   \n",
       "1                    0                    0                   0   \n",
       "2                    0                    0                   1   \n",
       "3                    0                    0                   0   \n",
       "4                    0                    0                   0   \n",
       "\n",
       "   Categorical_Year_1  Categorical_Year_2  Categorical_Month_0  \\\n",
       "0                   0                   1                    0   \n",
       "1                   1                   0                    0   \n",
       "2                   0                   0                    0   \n",
       "3                   1                   0                    0   \n",
       "4                   1                   0                    0   \n",
       "\n",
       "   Categorical_Month_1  Categorical_Month_2  Categorical_Month_3  \n",
       "0                    1                    0                    0  \n",
       "1                    0                    1                    0  \n",
       "2                    1                    0                    0  \n",
       "3                    0                    1                    0  \n",
       "4                    0                    0                    1  "
      ]
     },
     "execution_count": 2,
     "metadata": {},
     "output_type": "execute_result"
    }
   ],
   "source": [
    "train_df = pd.read_csv(\"output/Processed_Train.csv\")\n",
    "test_df = pd.read_csv(\"output/Processed_Test.csv\")\n",
    "print(\"Dimension of training data: \", train_df.shape)\n",
    "print(\"Dimension of test data: \", test_df.shape)\n",
    "\n",
    "train_df.head()"
   ]
  },
  {
   "cell_type": "markdown",
   "metadata": {},
   "source": [
    "# II. Fit Machine Learning Models"
   ]
  },
  {
   "cell_type": "code",
   "execution_count": 3,
   "metadata": {},
   "outputs": [
    {
     "name": "stdout",
     "output_type": "stream",
     "text": [
      "['Log_Comments', 'Log_Likes', 'Log_Popularity', 'Log_Followers', 'Categorical_Genre_0', 'Categorical_Genre_1', 'Categorical_Genre_2', 'Categorical_Genre_3', 'Categorical_Year_0', 'Categorical_Year_1', 'Categorical_Year_2', 'Categorical_Month_0', 'Categorical_Month_1', 'Categorical_Month_2', 'Categorical_Month_3']\n"
     ]
    }
   ],
   "source": [
    "# with open('output/boxcox_lambdas.json', 'r') as f:\n",
    "#     boxcox_lambdas = json.load(f)\n",
    "# print(boxcox_lambdas)\n",
    "\n",
    "# scores = ['neg_root_mean_squared_error']\n",
    "scores = ['neg_root_mean_squared_error']\n",
    "features = list(test_df.columns)\n",
    "features.remove('Unique_ID')\n",
    "print(features)"
   ]
  },
  {
   "cell_type": "markdown",
   "metadata": {},
   "source": [
    "Remove outliers."
   ]
  },
  {
   "cell_type": "code",
   "execution_count": 17,
   "metadata": {},
   "outputs": [],
   "source": [
    "# train_df_outlier_removed = train_df[train_df['BC_Views'] / train_df['BC_Likes'] < 10]\n",
    "# print(train_df_outlier_removed.shape)\n",
    "\n",
    "quan_features = ['Log_Comments', 'Log_Likes', 'Log_Popularity', 'Log_Followers',\n",
    "                 'Categorical_Year_0', 'Categorical_Year_1', 'Categorical_Year_2',\n",
    "                 'Categorical_Month_0', 'Categorical_Month_1', 'Categorical_Month_2', 'Categorical_Month_3']\n",
    "train_df_genre0 = train_df[train_df['Categorical_Genre_0'] == 1]\n",
    "train_df_danceedm = train_df[train_df['Categorical_Genre_1'] == 1]\n",
    "train_df_electronic = train_df[train_df['Categorical_Genre_2'] == 1]\n",
    "train_df_genre3 = train_df[train_df['Categorical_Genre_3'] == 1]"
   ]
  },
  {
   "cell_type": "markdown",
   "metadata": {},
   "source": [
    "## 2.1 Linear Regression"
   ]
  },
  {
   "cell_type": "code",
   "execution_count": 10,
   "metadata": {},
   "outputs": [
    {
     "name": "stdout",
     "output_type": "stream",
     "text": [
      "RMSE:  0.882855\n"
     ]
    }
   ],
   "source": [
    "linear_reg_worker = ModelWorker(LinearRegression(), scores)\n",
    "linear_reg_worker.fit(train_df_genre3, train_df_genre3['Log_Views'], quan_features)"
   ]
  },
  {
   "cell_type": "markdown",
   "metadata": {},
   "source": [
    "## 2.2 Lasso"
   ]
  },
  {
   "cell_type": "code",
   "execution_count": 7,
   "metadata": {},
   "outputs": [
    {
     "name": "stdout",
     "output_type": "stream",
     "text": [
      "RMSE:  0.964461\n"
     ]
    }
   ],
   "source": [
    "lasso_worker = ModelWorker(Lasso(), scores)\n",
    "lasso_worker.fit(train_df[features], train_df['Log_Views'], features)"
   ]
  },
  {
   "cell_type": "code",
   "execution_count": 8,
   "metadata": {},
   "outputs": [
    {
     "name": "stdout",
     "output_type": "stream",
     "text": [
      "# Tuning hyper-parameters for neg_root_mean_squared_error\n",
      "\n",
      "Best parameters set found on development set:\n",
      "\n",
      "{'alpha': 0}\n",
      "\n",
      "Grid scores on development set:\n",
      "\n",
      "-1.363 (+/-0.121) for {'alpha': 0}\n",
      "-1.386 (+/-0.110) for {'alpha': 0.05}\n",
      "-1.427 (+/-0.093) for {'alpha': 0.1}\n",
      "-1.458 (+/-0.087) for {'alpha': 0.15}\n",
      "-1.464 (+/-0.087) for {'alpha': 0.2}\n",
      "Elapsed time: 7.6929 seconds\n",
      "\n"
     ]
    }
   ],
   "source": [
    "# lasso_params = {'alpha': [0, 0.2, 0.4, 0.6, 0.8, 1]}\n",
    "lasso_params = {'alpha': [0, 0.05, 0.1, 0.15, 0.2]}\n",
    "lasso_grid, best_score = lasso_worker.tune(lasso_params, train_df[features], train_df['BC_Views'], 5)"
   ]
  },
  {
   "cell_type": "markdown",
   "metadata": {},
   "source": [
    "## 2.3 Random Forest"
   ]
  },
  {
   "cell_type": "code",
   "execution_count": 15,
   "metadata": {},
   "outputs": [
    {
     "name": "stdout",
     "output_type": "stream",
     "text": [
      "RMSE:  0.45197\n",
      "RandomForestRegressor(bootstrap=True, ccp_alpha=0.0, criterion='mse',\n",
      "                      max_depth=None, max_features='auto', max_leaf_nodes=None,\n",
      "                      max_samples=None, min_impurity_decrease=0.0,\n",
      "                      min_impurity_split=None, min_samples_leaf=1,\n",
      "                      min_samples_split=2, min_weight_fraction_leaf=0.0,\n",
      "                      n_estimators=100, n_jobs=None, oob_score=False,\n",
      "                      random_state=None, verbose=0, warm_start=False)\n",
      "Elapsed time: 144.7024 seconds\n"
     ]
    }
   ],
   "source": [
    "start_time = time.time()\n",
    "rf_worker = ModelWorker(RandomForestRegressor(), scores)\n",
    "rf_worker.fit(train_df, train_df['Log_Views'], features)\n",
    "# rf_worker.fit(train_df_outlier_removed[quan_features], train_df_outlier_removed['BC_Views'], quan_features)\n",
    "print(rf_worker.model)\n",
    "print(\"Elapsed time: %s seconds\" % round(time.time() - start_time, 4))"
   ]
  },
  {
   "cell_type": "code",
   "execution_count": 21,
   "metadata": {},
   "outputs": [
    {
     "name": "stdout",
     "output_type": "stream",
     "text": [
      "RMSE:  0.546138\n",
      "RandomForestRegressor(bootstrap=True, ccp_alpha=0.0, criterion='mse',\n",
      "                      max_depth=None, max_features='auto', max_leaf_nodes=None,\n",
      "                      max_samples=None, min_impurity_decrease=0.0,\n",
      "                      min_impurity_split=None, min_samples_leaf=1,\n",
      "                      min_samples_split=2, min_weight_fraction_leaf=0.0,\n",
      "                      n_estimators=100, n_jobs=None, oob_score=False,\n",
      "                      random_state=None, verbose=0, warm_start=False)\n",
      "Elapsed time: 23.8132 seconds\n"
     ]
    }
   ],
   "source": [
    "start_time = time.time()\n",
    "rf_worker = ModelWorker(RandomForestRegressor(), scores)\n",
    "rf_worker.fit(train_df_genre3, train_df_genre3['Log_Views'], quan_features)\n",
    "print(rf_worker.model)\n",
    "print(\"Elapsed time: %s seconds\" % round(time.time() - start_time, 4))"
   ]
  },
  {
   "cell_type": "code",
   "execution_count": 5,
   "metadata": {},
   "outputs": [
    {
     "name": "stdout",
     "output_type": "stream",
     "text": [
      "# Tuning hyper-parameters for neg_root_mean_squared_error\n",
      "\n",
      "Fitting 5 folds for each of 10 candidates, totalling 50 fits\n",
      "[CV] n_estimators=1600, min_samples_split=10, min_samples_leaf=1, max_features=sqrt, max_depth=20, bootstrap=False \n"
     ]
    },
    {
     "name": "stderr",
     "output_type": "stream",
     "text": [
      "[Parallel(n_jobs=1)]: Using backend SequentialBackend with 1 concurrent workers.\n"
     ]
    },
    {
     "name": "stdout",
     "output_type": "stream",
     "text": [
      "[CV]  n_estimators=1600, min_samples_split=10, min_samples_leaf=1, max_features=sqrt, max_depth=20, bootstrap=False, score=-0.764, total= 2.3min\n",
      "[CV] n_estimators=1600, min_samples_split=10, min_samples_leaf=1, max_features=sqrt, max_depth=20, bootstrap=False \n"
     ]
    },
    {
     "name": "stderr",
     "output_type": "stream",
     "text": [
      "[Parallel(n_jobs=1)]: Done   1 out of   1 | elapsed:  2.3min remaining:    0.0s\n"
     ]
    },
    {
     "name": "stdout",
     "output_type": "stream",
     "text": [
      "[CV]  n_estimators=1600, min_samples_split=10, min_samples_leaf=1, max_features=sqrt, max_depth=20, bootstrap=False, score=-0.768, total= 2.3min\n",
      "[CV] n_estimators=1600, min_samples_split=10, min_samples_leaf=1, max_features=sqrt, max_depth=20, bootstrap=False \n"
     ]
    },
    {
     "name": "stderr",
     "output_type": "stream",
     "text": [
      "[Parallel(n_jobs=1)]: Done   2 out of   2 | elapsed:  4.7min remaining:    0.0s\n"
     ]
    },
    {
     "name": "stdout",
     "output_type": "stream",
     "text": [
      "[CV]  n_estimators=1600, min_samples_split=10, min_samples_leaf=1, max_features=sqrt, max_depth=20, bootstrap=False, score=-0.754, total= 2.3min\n",
      "[CV] n_estimators=1600, min_samples_split=10, min_samples_leaf=1, max_features=sqrt, max_depth=20, bootstrap=False \n"
     ]
    },
    {
     "name": "stderr",
     "output_type": "stream",
     "text": [
      "[Parallel(n_jobs=1)]: Done   3 out of   3 | elapsed:  7.0min remaining:    0.0s\n"
     ]
    },
    {
     "name": "stdout",
     "output_type": "stream",
     "text": [
      "[CV]  n_estimators=1600, min_samples_split=10, min_samples_leaf=1, max_features=sqrt, max_depth=20, bootstrap=False, score=-0.743, total= 2.4min\n"
     ]
    },
    {
     "name": "stderr",
     "output_type": "stream",
     "text": [
      "[Parallel(n_jobs=1)]: Done   4 out of   4 | elapsed:  9.3min remaining:    0.0s\n"
     ]
    },
    {
     "name": "stdout",
     "output_type": "stream",
     "text": [
      "[CV] n_estimators=1600, min_samples_split=10, min_samples_leaf=1, max_features=sqrt, max_depth=20, bootstrap=False \n",
      "[CV]  n_estimators=1600, min_samples_split=10, min_samples_leaf=1, max_features=sqrt, max_depth=20, bootstrap=False, score=-0.743, total= 2.6min\n"
     ]
    },
    {
     "name": "stderr",
     "output_type": "stream",
     "text": [
      "[Parallel(n_jobs=1)]: Done   5 out of   5 | elapsed: 12.0min remaining:    0.0s\n"
     ]
    },
    {
     "name": "stdout",
     "output_type": "stream",
     "text": [
      "[CV] n_estimators=400, min_samples_split=5, min_samples_leaf=1, max_features=auto, max_depth=10, bootstrap=True \n",
      "[CV]  n_estimators=400, min_samples_split=5, min_samples_leaf=1, max_features=auto, max_depth=10, bootstrap=True, score=-0.830, total= 1.0min\n",
      "[CV] n_estimators=400, min_samples_split=5, min_samples_leaf=1, max_features=auto, max_depth=10, bootstrap=True \n"
     ]
    },
    {
     "name": "stderr",
     "output_type": "stream",
     "text": [
      "[Parallel(n_jobs=1)]: Done   6 out of   6 | elapsed: 13.0min remaining:    0.0s\n"
     ]
    },
    {
     "name": "stdout",
     "output_type": "stream",
     "text": [
      "[CV]  n_estimators=400, min_samples_split=5, min_samples_leaf=1, max_features=auto, max_depth=10, bootstrap=True, score=-0.840, total= 1.2min\n",
      "[CV] n_estimators=400, min_samples_split=5, min_samples_leaf=1, max_features=auto, max_depth=10, bootstrap=True \n"
     ]
    },
    {
     "name": "stderr",
     "output_type": "stream",
     "text": [
      "[Parallel(n_jobs=1)]: Done   7 out of   7 | elapsed: 14.2min remaining:    0.0s\n"
     ]
    },
    {
     "name": "stdout",
     "output_type": "stream",
     "text": [
      "[CV]  n_estimators=400, min_samples_split=5, min_samples_leaf=1, max_features=auto, max_depth=10, bootstrap=True, score=-0.821, total=  58.7s\n",
      "[CV] n_estimators=400, min_samples_split=5, min_samples_leaf=1, max_features=auto, max_depth=10, bootstrap=True \n"
     ]
    },
    {
     "name": "stderr",
     "output_type": "stream",
     "text": [
      "[Parallel(n_jobs=1)]: Done   8 out of   8 | elapsed: 15.2min remaining:    0.0s\n"
     ]
    },
    {
     "name": "stdout",
     "output_type": "stream",
     "text": [
      "[CV]  n_estimators=400, min_samples_split=5, min_samples_leaf=1, max_features=auto, max_depth=10, bootstrap=True, score=-0.824, total= 1.2min\n",
      "[CV] n_estimators=400, min_samples_split=5, min_samples_leaf=1, max_features=auto, max_depth=10, bootstrap=True \n"
     ]
    },
    {
     "name": "stderr",
     "output_type": "stream",
     "text": [
      "[Parallel(n_jobs=1)]: Done   9 out of   9 | elapsed: 16.4min remaining:    0.0s\n"
     ]
    },
    {
     "name": "stdout",
     "output_type": "stream",
     "text": [
      "[CV]  n_estimators=400, min_samples_split=5, min_samples_leaf=1, max_features=auto, max_depth=10, bootstrap=True, score=-0.814, total=  59.4s\n",
      "[CV] n_estimators=2000, min_samples_split=5, min_samples_leaf=1, max_features=sqrt, max_depth=50, bootstrap=True \n",
      "[CV]  n_estimators=2000, min_samples_split=5, min_samples_leaf=1, max_features=sqrt, max_depth=50, bootstrap=True, score=-0.767, total= 2.4min\n",
      "[CV] n_estimators=2000, min_samples_split=5, min_samples_leaf=1, max_features=sqrt, max_depth=50, bootstrap=True \n",
      "[CV]  n_estimators=2000, min_samples_split=5, min_samples_leaf=1, max_features=sqrt, max_depth=50, bootstrap=True, score=-0.771, total= 2.3min\n",
      "[CV] n_estimators=2000, min_samples_split=5, min_samples_leaf=1, max_features=sqrt, max_depth=50, bootstrap=True \n",
      "[CV]  n_estimators=2000, min_samples_split=5, min_samples_leaf=1, max_features=sqrt, max_depth=50, bootstrap=True, score=-0.756, total= 2.3min\n",
      "[CV] n_estimators=2000, min_samples_split=5, min_samples_leaf=1, max_features=sqrt, max_depth=50, bootstrap=True \n",
      "[CV]  n_estimators=2000, min_samples_split=5, min_samples_leaf=1, max_features=sqrt, max_depth=50, bootstrap=True, score=-0.748, total= 2.3min\n",
      "[CV] n_estimators=2000, min_samples_split=5, min_samples_leaf=1, max_features=sqrt, max_depth=50, bootstrap=True \n",
      "[CV]  n_estimators=2000, min_samples_split=5, min_samples_leaf=1, max_features=sqrt, max_depth=50, bootstrap=True, score=-0.745, total= 2.3min\n",
      "[CV] n_estimators=800, min_samples_split=5, min_samples_leaf=1, max_features=auto, max_depth=40, bootstrap=False \n",
      "[CV]  n_estimators=800, min_samples_split=5, min_samples_leaf=1, max_features=auto, max_depth=40, bootstrap=False, score=-0.949, total= 4.9min\n",
      "[CV] n_estimators=800, min_samples_split=5, min_samples_leaf=1, max_features=auto, max_depth=40, bootstrap=False \n",
      "[CV]  n_estimators=800, min_samples_split=5, min_samples_leaf=1, max_features=auto, max_depth=40, bootstrap=False, score=-0.938, total= 5.5min\n",
      "[CV] n_estimators=800, min_samples_split=5, min_samples_leaf=1, max_features=auto, max_depth=40, bootstrap=False \n",
      "[CV]  n_estimators=800, min_samples_split=5, min_samples_leaf=1, max_features=auto, max_depth=40, bootstrap=False, score=-0.936, total= 6.2min\n",
      "[CV] n_estimators=800, min_samples_split=5, min_samples_leaf=1, max_features=auto, max_depth=40, bootstrap=False \n",
      "[CV]  n_estimators=800, min_samples_split=5, min_samples_leaf=1, max_features=auto, max_depth=40, bootstrap=False, score=-0.928, total= 6.0min\n",
      "[CV] n_estimators=800, min_samples_split=5, min_samples_leaf=1, max_features=auto, max_depth=40, bootstrap=False \n",
      "[CV]  n_estimators=800, min_samples_split=5, min_samples_leaf=1, max_features=auto, max_depth=40, bootstrap=False, score=-0.929, total= 5.4min\n",
      "[CV] n_estimators=1400, min_samples_split=5, min_samples_leaf=2, max_features=sqrt, max_depth=20, bootstrap=False \n",
      "[CV]  n_estimators=1400, min_samples_split=5, min_samples_leaf=2, max_features=sqrt, max_depth=20, bootstrap=False, score=-0.760, total= 2.2min\n",
      "[CV] n_estimators=1400, min_samples_split=5, min_samples_leaf=2, max_features=sqrt, max_depth=20, bootstrap=False \n",
      "[CV]  n_estimators=1400, min_samples_split=5, min_samples_leaf=2, max_features=sqrt, max_depth=20, bootstrap=False, score=-0.763, total= 2.3min\n",
      "[CV] n_estimators=1400, min_samples_split=5, min_samples_leaf=2, max_features=sqrt, max_depth=20, bootstrap=False \n",
      "[CV]  n_estimators=1400, min_samples_split=5, min_samples_leaf=2, max_features=sqrt, max_depth=20, bootstrap=False, score=-0.750, total= 2.2min\n",
      "[CV] n_estimators=1400, min_samples_split=5, min_samples_leaf=2, max_features=sqrt, max_depth=20, bootstrap=False \n",
      "[CV]  n_estimators=1400, min_samples_split=5, min_samples_leaf=2, max_features=sqrt, max_depth=20, bootstrap=False, score=-0.740, total= 2.2min\n",
      "[CV] n_estimators=1400, min_samples_split=5, min_samples_leaf=2, max_features=sqrt, max_depth=20, bootstrap=False \n",
      "[CV]  n_estimators=1400, min_samples_split=5, min_samples_leaf=2, max_features=sqrt, max_depth=20, bootstrap=False, score=-0.737, total= 2.3min\n",
      "[CV] n_estimators=600, min_samples_split=10, min_samples_leaf=4, max_features=auto, max_depth=90, bootstrap=True \n",
      "[CV]  n_estimators=600, min_samples_split=10, min_samples_leaf=4, max_features=auto, max_depth=90, bootstrap=True, score=-0.737, total= 1.9min\n",
      "[CV] n_estimators=600, min_samples_split=10, min_samples_leaf=4, max_features=auto, max_depth=90, bootstrap=True \n",
      "[CV]  n_estimators=600, min_samples_split=10, min_samples_leaf=4, max_features=auto, max_depth=90, bootstrap=True, score=-0.754, total= 1.9min\n",
      "[CV] n_estimators=600, min_samples_split=10, min_samples_leaf=4, max_features=auto, max_depth=90, bootstrap=True \n",
      "[CV]  n_estimators=600, min_samples_split=10, min_samples_leaf=4, max_features=auto, max_depth=90, bootstrap=True, score=-0.732, total= 1.9min\n",
      "[CV] n_estimators=600, min_samples_split=10, min_samples_leaf=4, max_features=auto, max_depth=90, bootstrap=True \n",
      "[CV]  n_estimators=600, min_samples_split=10, min_samples_leaf=4, max_features=auto, max_depth=90, bootstrap=True, score=-0.728, total= 1.9min\n",
      "[CV] n_estimators=600, min_samples_split=10, min_samples_leaf=4, max_features=auto, max_depth=90, bootstrap=True \n",
      "[CV]  n_estimators=600, min_samples_split=10, min_samples_leaf=4, max_features=auto, max_depth=90, bootstrap=True, score=-0.726, total= 1.9min\n",
      "[CV] n_estimators=2000, min_samples_split=2, min_samples_leaf=2, max_features=auto, max_depth=110, bootstrap=True \n",
      "[CV]  n_estimators=2000, min_samples_split=2, min_samples_leaf=2, max_features=auto, max_depth=110, bootstrap=True, score=-0.727, total= 7.5min\n",
      "[CV] n_estimators=2000, min_samples_split=2, min_samples_leaf=2, max_features=auto, max_depth=110, bootstrap=True \n",
      "[CV]  n_estimators=2000, min_samples_split=2, min_samples_leaf=2, max_features=auto, max_depth=110, bootstrap=True, score=-0.740, total= 7.4min\n",
      "[CV] n_estimators=2000, min_samples_split=2, min_samples_leaf=2, max_features=auto, max_depth=110, bootstrap=True \n",
      "[CV]  n_estimators=2000, min_samples_split=2, min_samples_leaf=2, max_features=auto, max_depth=110, bootstrap=True, score=-0.718, total= 7.4min\n",
      "[CV] n_estimators=2000, min_samples_split=2, min_samples_leaf=2, max_features=auto, max_depth=110, bootstrap=True \n",
      "[CV]  n_estimators=2000, min_samples_split=2, min_samples_leaf=2, max_features=auto, max_depth=110, bootstrap=True, score=-0.715, total= 7.4min\n",
      "[CV] n_estimators=2000, min_samples_split=2, min_samples_leaf=2, max_features=auto, max_depth=110, bootstrap=True \n",
      "[CV]  n_estimators=2000, min_samples_split=2, min_samples_leaf=2, max_features=auto, max_depth=110, bootstrap=True, score=-0.716, total= 7.4min\n",
      "[CV] n_estimators=800, min_samples_split=2, min_samples_leaf=2, max_features=sqrt, max_depth=70, bootstrap=False \n",
      "[CV]  n_estimators=800, min_samples_split=2, min_samples_leaf=2, max_features=sqrt, max_depth=70, bootstrap=False, score=-0.761, total= 1.2min\n",
      "[CV] n_estimators=800, min_samples_split=2, min_samples_leaf=2, max_features=sqrt, max_depth=70, bootstrap=False \n",
      "[CV]  n_estimators=800, min_samples_split=2, min_samples_leaf=2, max_features=sqrt, max_depth=70, bootstrap=False, score=-0.760, total= 1.2min\n",
      "[CV] n_estimators=800, min_samples_split=2, min_samples_leaf=2, max_features=sqrt, max_depth=70, bootstrap=False \n",
      "[CV]  n_estimators=800, min_samples_split=2, min_samples_leaf=2, max_features=sqrt, max_depth=70, bootstrap=False, score=-0.748, total= 1.2min\n",
      "[CV] n_estimators=800, min_samples_split=2, min_samples_leaf=2, max_features=sqrt, max_depth=70, bootstrap=False \n",
      "[CV]  n_estimators=800, min_samples_split=2, min_samples_leaf=2, max_features=sqrt, max_depth=70, bootstrap=False, score=-0.738, total= 1.2min\n",
      "[CV] n_estimators=800, min_samples_split=2, min_samples_leaf=2, max_features=sqrt, max_depth=70, bootstrap=False \n",
      "[CV]  n_estimators=800, min_samples_split=2, min_samples_leaf=2, max_features=sqrt, max_depth=70, bootstrap=False, score=-0.736, total= 1.2min\n",
      "[CV] n_estimators=1000, min_samples_split=5, min_samples_leaf=1, max_features=sqrt, max_depth=100, bootstrap=True \n",
      "[CV]  n_estimators=1000, min_samples_split=5, min_samples_leaf=1, max_features=sqrt, max_depth=100, bootstrap=True, score=-0.768, total= 1.1min\n",
      "[CV] n_estimators=1000, min_samples_split=5, min_samples_leaf=1, max_features=sqrt, max_depth=100, bootstrap=True \n"
     ]
    },
    {
     "name": "stdout",
     "output_type": "stream",
     "text": [
      "[CV]  n_estimators=1000, min_samples_split=5, min_samples_leaf=1, max_features=sqrt, max_depth=100, bootstrap=True, score=-0.772, total= 1.0min\n",
      "[CV] n_estimators=1000, min_samples_split=5, min_samples_leaf=1, max_features=sqrt, max_depth=100, bootstrap=True \n",
      "[CV]  n_estimators=1000, min_samples_split=5, min_samples_leaf=1, max_features=sqrt, max_depth=100, bootstrap=True, score=-0.756, total= 1.0min\n",
      "[CV] n_estimators=1000, min_samples_split=5, min_samples_leaf=1, max_features=sqrt, max_depth=100, bootstrap=True \n",
      "[CV]  n_estimators=1000, min_samples_split=5, min_samples_leaf=1, max_features=sqrt, max_depth=100, bootstrap=True, score=-0.748, total= 1.1min\n",
      "[CV] n_estimators=1000, min_samples_split=5, min_samples_leaf=1, max_features=sqrt, max_depth=100, bootstrap=True \n",
      "[CV]  n_estimators=1000, min_samples_split=5, min_samples_leaf=1, max_features=sqrt, max_depth=100, bootstrap=True, score=-0.744, total= 1.1min\n",
      "[CV] n_estimators=1800, min_samples_split=2, min_samples_leaf=1, max_features=sqrt, max_depth=50, bootstrap=False \n",
      "[CV]  n_estimators=1800, min_samples_split=2, min_samples_leaf=1, max_features=sqrt, max_depth=50, bootstrap=False, score=-0.766, total= 4.6min\n",
      "[CV] n_estimators=1800, min_samples_split=2, min_samples_leaf=1, max_features=sqrt, max_depth=50, bootstrap=False \n",
      "[CV]  n_estimators=1800, min_samples_split=2, min_samples_leaf=1, max_features=sqrt, max_depth=50, bootstrap=False, score=-0.760, total= 4.5min\n",
      "[CV] n_estimators=1800, min_samples_split=2, min_samples_leaf=1, max_features=sqrt, max_depth=50, bootstrap=False \n",
      "[CV]  n_estimators=1800, min_samples_split=2, min_samples_leaf=1, max_features=sqrt, max_depth=50, bootstrap=False, score=-0.744, total= 4.5min\n",
      "[CV] n_estimators=1800, min_samples_split=2, min_samples_leaf=1, max_features=sqrt, max_depth=50, bootstrap=False \n",
      "[CV]  n_estimators=1800, min_samples_split=2, min_samples_leaf=1, max_features=sqrt, max_depth=50, bootstrap=False, score=-0.739, total= 4.5min\n",
      "[CV] n_estimators=1800, min_samples_split=2, min_samples_leaf=1, max_features=sqrt, max_depth=50, bootstrap=False \n",
      "[CV]  n_estimators=1800, min_samples_split=2, min_samples_leaf=1, max_features=sqrt, max_depth=50, bootstrap=False, score=-0.736, total= 4.5min\n"
     ]
    },
    {
     "name": "stderr",
     "output_type": "stream",
     "text": [
      "[Parallel(n_jobs=1)]: Done  50 out of  50 | elapsed: 149.3min finished\n"
     ]
    },
    {
     "name": "stdout",
     "output_type": "stream",
     "text": [
      "Best parameters set found on development set:\n",
      "\n",
      "{'n_estimators': 2000, 'min_samples_split': 2, 'min_samples_leaf': 2, 'max_features': 'auto', 'max_depth': 110, 'bootstrap': True}\n",
      "\n",
      "Grid scores on development set:\n",
      "\n",
      "-0.754 (+/-0.021) for {'n_estimators': 1600, 'min_samples_split': 10, 'min_samples_leaf': 1, 'max_features': 'sqrt', 'max_depth': 20, 'bootstrap': False}\n",
      "-0.826 (+/-0.017) for {'n_estimators': 400, 'min_samples_split': 5, 'min_samples_leaf': 1, 'max_features': 'auto', 'max_depth': 10, 'bootstrap': True}\n",
      "-0.757 (+/-0.020) for {'n_estimators': 2000, 'min_samples_split': 5, 'min_samples_leaf': 1, 'max_features': 'sqrt', 'max_depth': 50, 'bootstrap': True}\n",
      "-0.936 (+/-0.015) for {'n_estimators': 800, 'min_samples_split': 5, 'min_samples_leaf': 1, 'max_features': 'auto', 'max_depth': 40, 'bootstrap': False}\n",
      "-0.750 (+/-0.021) for {'n_estimators': 1400, 'min_samples_split': 5, 'min_samples_leaf': 2, 'max_features': 'sqrt', 'max_depth': 20, 'bootstrap': False}\n",
      "-0.735 (+/-0.020) for {'n_estimators': 600, 'min_samples_split': 10, 'min_samples_leaf': 4, 'max_features': 'auto', 'max_depth': 90, 'bootstrap': True}\n",
      "-0.723 (+/-0.019) for {'n_estimators': 2000, 'min_samples_split': 2, 'min_samples_leaf': 2, 'max_features': 'auto', 'max_depth': 110, 'bootstrap': True}\n",
      "-0.749 (+/-0.021) for {'n_estimators': 800, 'min_samples_split': 2, 'min_samples_leaf': 2, 'max_features': 'sqrt', 'max_depth': 70, 'bootstrap': False}\n",
      "-0.758 (+/-0.022) for {'n_estimators': 1000, 'min_samples_split': 5, 'min_samples_leaf': 1, 'max_features': 'sqrt', 'max_depth': 100, 'bootstrap': True}\n",
      "-0.749 (+/-0.024) for {'n_estimators': 1800, 'min_samples_split': 2, 'min_samples_leaf': 1, 'max_features': 'sqrt', 'max_depth': 50, 'bootstrap': False}\n",
      "Elapsed time: 9526.4173 seconds\n",
      "\n"
     ]
    }
   ],
   "source": [
    "rf_worker = ModelWorker(RandomForestRegressor(), scores, boxcox_lambdas)\n",
    "\n",
    "# Maximum number of levels in tree\n",
    "max_depth = [int(x) for x in np.linspace(10, 110, num=11)]\n",
    "max_depth.append(None)\n",
    "\n",
    "# Create the random grid\n",
    "tuned_parameters = {'n_estimators': [int(x) for x in np.linspace(start=200, stop=2000, num=10)],\n",
    "                    'max_features': ['auto', 'sqrt'],\n",
    "                    'max_depth': max_depth,\n",
    "                    'min_samples_split': [2, 5, 10],\n",
    "                    'min_samples_leaf': [1, 2, 4],\n",
    "                    'bootstrap': [True, False]}\n",
    "rf_random, best_score = rf_worker.tune(tuned_parameters, train_df[features], train_df['BC_Views'], 5, False)\n",
    "# model_metrics[\"Random Forest\"] = round(best_score[\"accuracy\"], 6)\n",
    "# print(model_metrics)"
   ]
  },
  {
   "cell_type": "markdown",
   "metadata": {},
   "source": [
    "Best performing parameters: {'n_estimators': 2000, 'min_samples_split': 2, 'min_samples_leaf': 2, 'max_features': 'auto', 'max_depth': 110, 'bootstrap': True}"
   ]
  },
  {
   "cell_type": "code",
   "execution_count": 15,
   "metadata": {},
   "outputs": [
    {
     "name": "stdout",
     "output_type": "stream",
     "text": [
      "RMSE:  0.699176\n",
      "Elapsed time: 527.3588 seconds\n"
     ]
    }
   ],
   "source": [
    "start_time = time.time()\n",
    "rf_worker = ModelWorker(RandomForestRegressor(n_estimators=1000,\n",
    "                                              min_samples_split=2,\n",
    "                                              min_samples_leaf=2,\n",
    "                                              max_features='auto',\n",
    "                                              max_depth=110,\n",
    "                                              bootstrap=True,\n",
    "                                              n_jobs=3), scores, boxcox_lambdas)\n",
    "rf_worker.fit(train_df_outlier_removed[features], train_df_outlier_removed['BC_Views'], features)\n",
    "print(\"Elapsed time: %s seconds\" % round(time.time() - start_time, 4))"
   ]
  },
  {
   "cell_type": "code",
   "execution_count": 12,
   "metadata": {},
   "outputs": [
    {
     "data": {
      "image/png": "[encoded data removed]",
      "text/plain": [
       "<Figure size 864x576 with 1 Axes>"
      ]
     },
     "metadata": {},
     "output_type": "display_data"
    }
   ],
   "source": [
    "# importances = rf_random.best_estimator_.feature_importances_\n",
    "importances = rf_worker.model.feature_importances_\n",
    "indices = np.argsort(importances)\n",
    "\n",
    "fig = plt.figure(figsize=(12, 8))\n",
    "plt.title('Feature Importances')\n",
    "plt.barh(range(len(indices)), importances[indices], align='center')\n",
    "plt.yticks(range(len(indices)), [features[i] for i in indices])\n",
    "plt.xlabel('Relative Importance')\n",
    "plt.show()"
   ]
  },
  {
   "cell_type": "markdown",
   "metadata": {},
   "source": [
    "## 2.4 XGBoost"
   ]
  },
  {
   "cell_type": "code",
   "execution_count": 13,
   "metadata": {},
   "outputs": [
    {
     "name": "stdout",
     "output_type": "stream",
     "text": [
      "RMSE:  0.590099\n",
      "Elapsed time: 14.8389 seconds\n"
     ]
    }
   ],
   "source": [
    "start_time = time.time()\n",
    "xgb_worker = ModelWorker(XGBRegressor(), scores)\n",
    "xgb_worker.fit(train_df[features], train_df['Log_Views'], features)\n",
    "print(\"Elapsed time: %s seconds\" % round(time.time() - start_time, 4))"
   ]
  },
  {
   "cell_type": "code",
   "execution_count": null,
   "metadata": {},
   "outputs": [],
   "source": []
  },
  {
   "cell_type": "markdown",
   "metadata": {},
   "source": [
    "# III. Predict on Test Data"
   ]
  },
  {
   "cell_type": "code",
   "execution_count": 10,
   "metadata": {},
   "outputs": [
    {
     "name": "stdout",
     "output_type": "stream",
     "text": [
      "Fitted model:  RandomForestRegressor(bootstrap=True, ccp_alpha=0.0, criterion='mse',\n",
      "                      max_depth=None, max_features='auto', max_leaf_nodes=None,\n",
      "                      max_samples=None, min_impurity_decrease=0.0,\n",
      "                      min_impurity_split=None, min_samples_leaf=1,\n",
      "                      min_samples_split=2, min_weight_fraction_leaf=0.0,\n",
      "                      n_estimators=100, n_jobs=None, oob_score=False,\n",
      "                      random_state=None, verbose=0, warm_start=False)\n",
      "Elapsed time: 34.6369 seconds\n"
     ]
    },
    {
     "data": {
      "text/html": [
       "<div>\n",
       "<style scoped>\n",
       "    .dataframe tbody tr th:only-of-type {\n",
       "        vertical-align: middle;\n",
       "    }\n",
       "\n",
       "    .dataframe tbody tr th {\n",
       "        vertical-align: top;\n",
       "    }\n",
       "\n",
       "    .dataframe thead th {\n",
       "        text-align: right;\n",
       "    }\n",
       "</style>\n",
       "<table border=\"1\" class=\"dataframe\">\n",
       "  <thead>\n",
       "    <tr style=\"text-align: right;\">\n",
       "      <th></th>\n",
       "      <th>Unique_ID</th>\n",
       "      <th>Log_Comments</th>\n",
       "      <th>Log_Likes</th>\n",
       "      <th>Log_Popularity</th>\n",
       "      <th>Log_Followers</th>\n",
       "      <th>Categorical_Genre_0</th>\n",
       "      <th>Categorical_Genre_1</th>\n",
       "      <th>Categorical_Genre_2</th>\n",
       "      <th>Categorical_Genre_3</th>\n",
       "      <th>Categorical_Year_0</th>\n",
       "      <th>Categorical_Year_1</th>\n",
       "      <th>Categorical_Year_2</th>\n",
       "      <th>Categorical_Month_0</th>\n",
       "      <th>Categorical_Month_1</th>\n",
       "      <th>Categorical_Month_2</th>\n",
       "      <th>Categorical_Month_3</th>\n",
       "      <th>Log_Views</th>\n",
       "      <th>Views</th>\n",
       "    </tr>\n",
       "  </thead>\n",
       "  <tbody>\n",
       "    <tr>\n",
       "      <th>0</th>\n",
       "      <td>562546</td>\n",
       "      <td>3.295837</td>\n",
       "      <td>8.599510</td>\n",
       "      <td>4.779123</td>\n",
       "      <td>7.851272</td>\n",
       "      <td>1</td>\n",
       "      <td>0</td>\n",
       "      <td>0</td>\n",
       "      <td>0</td>\n",
       "      <td>0</td>\n",
       "      <td>0</td>\n",
       "      <td>1</td>\n",
       "      <td>1</td>\n",
       "      <td>0</td>\n",
       "      <td>0</td>\n",
       "      <td>0</td>\n",
       "      <td>12.589550</td>\n",
       "      <td>293475</td>\n",
       "    </tr>\n",
       "    <tr>\n",
       "      <th>1</th>\n",
       "      <td>907584</td>\n",
       "      <td>2.944439</td>\n",
       "      <td>6.605298</td>\n",
       "      <td>5.278115</td>\n",
       "      <td>11.955339</td>\n",
       "      <td>0</td>\n",
       "      <td>1</td>\n",
       "      <td>0</td>\n",
       "      <td>0</td>\n",
       "      <td>1</td>\n",
       "      <td>0</td>\n",
       "      <td>0</td>\n",
       "      <td>0</td>\n",
       "      <td>1</td>\n",
       "      <td>0</td>\n",
       "      <td>0</td>\n",
       "      <td>10.374450</td>\n",
       "      <td>32030</td>\n",
       "    </tr>\n",
       "    <tr>\n",
       "      <th>2</th>\n",
       "      <td>213013</td>\n",
       "      <td>2.944439</td>\n",
       "      <td>5.958425</td>\n",
       "      <td>4.574711</td>\n",
       "      <td>10.290347</td>\n",
       "      <td>0</td>\n",
       "      <td>1</td>\n",
       "      <td>0</td>\n",
       "      <td>0</td>\n",
       "      <td>1</td>\n",
       "      <td>0</td>\n",
       "      <td>0</td>\n",
       "      <td>0</td>\n",
       "      <td>0</td>\n",
       "      <td>0</td>\n",
       "      <td>1</td>\n",
       "      <td>9.589618</td>\n",
       "      <td>14611</td>\n",
       "    </tr>\n",
       "    <tr>\n",
       "      <th>3</th>\n",
       "      <td>340312</td>\n",
       "      <td>0.693147</td>\n",
       "      <td>5.963579</td>\n",
       "      <td>2.995732</td>\n",
       "      <td>13.591630</td>\n",
       "      <td>1</td>\n",
       "      <td>0</td>\n",
       "      <td>0</td>\n",
       "      <td>0</td>\n",
       "      <td>1</td>\n",
       "      <td>0</td>\n",
       "      <td>0</td>\n",
       "      <td>0</td>\n",
       "      <td>0</td>\n",
       "      <td>1</td>\n",
       "      <td>0</td>\n",
       "      <td>10.235989</td>\n",
       "      <td>27888</td>\n",
       "    </tr>\n",
       "    <tr>\n",
       "      <th>4</th>\n",
       "      <td>41854</td>\n",
       "      <td>0.000000</td>\n",
       "      <td>4.382027</td>\n",
       "      <td>0.693147</td>\n",
       "      <td>1.098612</td>\n",
       "      <td>0</td>\n",
       "      <td>0</td>\n",
       "      <td>0</td>\n",
       "      <td>1</td>\n",
       "      <td>0</td>\n",
       "      <td>0</td>\n",
       "      <td>1</td>\n",
       "      <td>0</td>\n",
       "      <td>0</td>\n",
       "      <td>1</td>\n",
       "      <td>0</td>\n",
       "      <td>8.430578</td>\n",
       "      <td>4584</td>\n",
       "    </tr>\n",
       "  </tbody>\n",
       "</table>\n",
       "</div>"
      ],
      "text/plain": [
       "   Unique_ID  Log_Comments  Log_Likes  Log_Popularity  Log_Followers  \\\n",
       "0     562546      3.295837   8.599510        4.779123       7.851272   \n",
       "1     907584      2.944439   6.605298        5.278115      11.955339   \n",
       "2     213013      2.944439   5.958425        4.574711      10.290347   \n",
       "3     340312      0.693147   5.963579        2.995732      13.591630   \n",
       "4      41854      0.000000   4.382027        0.693147       1.098612   \n",
       "\n",
       "   Categorical_Genre_0  Categorical_Genre_1  Categorical_Genre_2  \\\n",
       "0                    1                    0                    0   \n",
       "1                    0                    1                    0   \n",
       "2                    0                    1                    0   \n",
       "3                    1                    0                    0   \n",
       "4                    0                    0                    0   \n",
       "\n",
       "   Categorical_Genre_3  Categorical_Year_0  Categorical_Year_1  \\\n",
       "0                    0                   0                   0   \n",
       "1                    0                   1                   0   \n",
       "2                    0                   1                   0   \n",
       "3                    0                   1                   0   \n",
       "4                    1                   0                   0   \n",
       "\n",
       "   Categorical_Year_2  Categorical_Month_0  Categorical_Month_1  \\\n",
       "0                   1                    1                    0   \n",
       "1                   0                    0                    1   \n",
       "2                   0                    0                    0   \n",
       "3                   0                    0                    0   \n",
       "4                   1                    0                    0   \n",
       "\n",
       "   Categorical_Month_2  Categorical_Month_3  Log_Views   Views  \n",
       "0                    0                    0  12.589550  293475  \n",
       "1                    0                    0  10.374450   32030  \n",
       "2                    0                    1   9.589618   14611  \n",
       "3                    1                    0  10.235989   27888  \n",
       "4                    1                    0   8.430578    4584  "
      ]
     },
     "execution_count": 10,
     "metadata": {},
     "output_type": "execute_result"
    }
   ],
   "source": [
    "start_time = time.time()\n",
    "result = rf_worker.predict(train_df, train_df['Log_Views'], test_df, features)\n",
    "result['Views'] = result['Views'].round().astype(int)\n",
    "print(\"Elapsed time: %s seconds\" % round(time.time() - start_time, 4))\n",
    "result.head()"
   ]
  },
  {
   "cell_type": "code",
   "execution_count": 24,
   "metadata": {},
   "outputs": [],
   "source": [
    "result[['Unique_ID', 'Views']].to_excel('output/submission_20200113_1.xlsx', index=False)"
   ]
  },
  {
   "cell_type": "code",
   "execution_count": 22,
   "metadata": {},
   "outputs": [],
   "source": [
    "train_df_genre0 = train_df[train_df['Categorical_Genre_0'] == 1]\n",
    "train_df_danceedm = train_df[train_df['Categorical_Genre_1'] == 1]\n",
    "train_df_electronic = train_df[train_df['Categorical_Genre_2'] == 1]\n",
    "train_df_genre3 = train_df[train_df['Categorical_Genre_3'] == 1]\n",
    "\n",
    "test_df_genre0 = test_df[test_df['Categorical_Genre_0'] == 1]\n",
    "test_df_danceedm = test_df[test_df['Categorical_Genre_1'] == 1]\n",
    "test_df_electronic = test_df[test_df['Categorical_Genre_2'] == 1]\n",
    "test_df_genre3 = test_df[test_df['Categorical_Genre_3'] == 1]"
   ]
  },
  {
   "cell_type": "code",
   "execution_count": 23,
   "metadata": {},
   "outputs": [
    {
     "name": "stdout",
     "output_type": "stream",
     "text": [
      "Fitted model:  RandomForestRegressor(bootstrap=True, ccp_alpha=0.0, criterion='mse',\n",
      "                      max_depth=None, max_features='auto', max_leaf_nodes=None,\n",
      "                      max_samples=None, min_impurity_decrease=0.0,\n",
      "                      min_impurity_split=None, min_samples_leaf=1,\n",
      "                      min_samples_split=2, min_weight_fraction_leaf=0.0,\n",
      "                      n_estimators=100, n_jobs=None, oob_score=False,\n",
      "                      random_state=None, verbose=0, warm_start=False)\n",
      "Elapsed time: 7.4899 seconds\n",
      "Fitted model:  RandomForestRegressor(bootstrap=True, ccp_alpha=0.0, criterion='mse',\n",
      "                      max_depth=None, max_features='auto', max_leaf_nodes=None,\n",
      "                      max_samples=None, min_impurity_decrease=0.0,\n",
      "                      min_impurity_split=None, min_samples_leaf=1,\n",
      "                      min_samples_split=2, min_weight_fraction_leaf=0.0,\n",
      "                      n_estimators=100, n_jobs=None, oob_score=False,\n",
      "                      random_state=None, verbose=0, warm_start=False)\n",
      "Elapsed time: 16.9046 seconds\n",
      "Fitted model:  RandomForestRegressor(bootstrap=True, ccp_alpha=0.0, criterion='mse',\n",
      "                      max_depth=None, max_features='auto', max_leaf_nodes=None,\n",
      "                      max_samples=None, min_impurity_decrease=0.0,\n",
      "                      min_impurity_split=None, min_samples_leaf=1,\n",
      "                      min_samples_split=2, min_weight_fraction_leaf=0.0,\n",
      "                      n_estimators=100, n_jobs=None, oob_score=False,\n",
      "                      random_state=None, verbose=0, warm_start=False)\n",
      "Elapsed time: 23.9438 seconds\n",
      "Fitted model:  RandomForestRegressor(bootstrap=True, ccp_alpha=0.0, criterion='mse',\n",
      "                      max_depth=None, max_features='auto', max_leaf_nodes=None,\n",
      "                      max_samples=None, min_impurity_decrease=0.0,\n",
      "                      min_impurity_split=None, min_samples_leaf=1,\n",
      "                      min_samples_split=2, min_weight_fraction_leaf=0.0,\n",
      "                      n_estimators=100, n_jobs=None, oob_score=False,\n",
      "                      random_state=None, verbose=0, warm_start=False)\n",
      "Elapsed time: 29.7299 seconds\n",
      "(19615, 18)\n"
     ]
    }
   ],
   "source": [
    "start_time = time.time()\n",
    "result1 = rf_worker.predict(train_df_genre0, train_df_genre0['Log_Views'], test_df_genre0, features)\n",
    "result1['Views'] = result1['Views'].round().astype(int)\n",
    "print(\"Elapsed time: %s seconds\" % round(time.time() - start_time, 4))\n",
    "result2 = rf_worker.predict(train_df_danceedm, train_df_danceedm['Log_Views'], test_df_danceedm, features)\n",
    "result2['Views'] = result2['Views'].round().astype(int)\n",
    "print(\"Elapsed time: %s seconds\" % round(time.time() - start_time, 4))\n",
    "result3 = rf_worker.predict(train_df_electronic, train_df_electronic['Log_Views'], test_df_electronic, features)\n",
    "result3['Views'] = result3['Views'].round().astype(int)\n",
    "print(\"Elapsed time: %s seconds\" % round(time.time() - start_time, 4))\n",
    "result4 = rf_worker.predict(train_df_genre3, train_df_genre3['Log_Views'], test_df_genre3, features)\n",
    "result4['Views'] = result4['Views'].round().astype(int)\n",
    "print(\"Elapsed time: %s seconds\" % round(time.time() - start_time, 4))\n",
    "\n",
    "result = pd.concat([result1, result2, result3, result4])\n",
    "print(result.shape)"
   ]
  },
  {
   "cell_type": "code",
   "execution_count": null,
   "metadata": {},
   "outputs": [],
   "source": []
  }
 ],
 "metadata": {
  "kernelspec": {
   "display_name": "Python 3",
   "language": "python",
   "name": "python3"
  },
  "language_info": {
   "codemirror_mode": {
    "name": "ipython",
    "version": 3
   },
   "file_extension": ".py",
   "mimetype": "text/x-python",
   "name": "python",
   "nbconvert_exporter": "python",
   "pygments_lexer": "ipython3",
   "version": "3.7.0"
  }
 },
 "nbformat": 4,
 "nbformat_minor": 2
}
