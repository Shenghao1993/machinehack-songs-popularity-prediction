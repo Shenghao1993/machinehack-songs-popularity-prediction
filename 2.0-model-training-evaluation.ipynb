{
 "cells": [
  {
   "cell_type": "code",
   "execution_count": 9,
   "metadata": {},
   "outputs": [],
   "source": [
    "import json\n",
    "import warnings\n",
    "import pandas as pd\n",
    "from helpers import Preprocessor, ModelWorker\n",
    "from sklearn.linear_model import LinearRegression, Lasso\n",
    "from sklearn.ensemble import RandomForestRegressor\n",
    "\n",
    "warnings.filterwarnings('ignore')"
   ]
  },
  {
   "cell_type": "markdown",
   "metadata": {},
   "source": [
    "# I. Acquire Training Data"
   ]
  },
  {
   "cell_type": "code",
   "execution_count": 2,
   "metadata": {},
   "outputs": [
    {
     "name": "stdout",
     "output_type": "stream",
     "text": [
      "Dimension of training data:  (78458, 17)\n",
      "Dimension of test data:  (19615, 16)\n"
     ]
    },
    {
     "data": {
      "text/html": [
       "<div>\n",
       "<style scoped>\n",
       "    .dataframe tbody tr th:only-of-type {\n",
       "        vertical-align: middle;\n",
       "    }\n",
       "\n",
       "    .dataframe tbody tr th {\n",
       "        vertical-align: top;\n",
       "    }\n",
       "\n",
       "    .dataframe thead th {\n",
       "        text-align: right;\n",
       "    }\n",
       "</style>\n",
       "<table border=\"1\" class=\"dataframe\">\n",
       "  <thead>\n",
       "    <tr style=\"text-align: right;\">\n",
       "      <th></th>\n",
       "      <th>Unique_ID</th>\n",
       "      <th>BC_Views</th>\n",
       "      <th>BC_Comments</th>\n",
       "      <th>BC_Likes</th>\n",
       "      <th>BC_Popularity</th>\n",
       "      <th>BC_Followers</th>\n",
       "      <th>Categorical_Genre_0</th>\n",
       "      <th>Categorical_Genre_1</th>\n",
       "      <th>Categorical_Genre_2</th>\n",
       "      <th>Categorical_Genre_3</th>\n",
       "      <th>Categorical_Year_0</th>\n",
       "      <th>Categorical_Year_1</th>\n",
       "      <th>Categorical_Year_2</th>\n",
       "      <th>Categorical_Month_0</th>\n",
       "      <th>Categorical_Month_1</th>\n",
       "      <th>Categorical_Month_2</th>\n",
       "      <th>Categorical_Month_3</th>\n",
       "    </tr>\n",
       "  </thead>\n",
       "  <tbody>\n",
       "    <tr>\n",
       "      <th>0</th>\n",
       "      <td>413890</td>\n",
       "      <td>12.526992</td>\n",
       "      <td>1.503982</td>\n",
       "      <td>7.038090</td>\n",
       "      <td>4.683402</td>\n",
       "      <td>20.989877</td>\n",
       "      <td>0</td>\n",
       "      <td>1</td>\n",
       "      <td>0</td>\n",
       "      <td>0</td>\n",
       "      <td>0</td>\n",
       "      <td>0</td>\n",
       "      <td>1</td>\n",
       "      <td>0</td>\n",
       "      <td>1</td>\n",
       "      <td>0</td>\n",
       "      <td>0</td>\n",
       "    </tr>\n",
       "    <tr>\n",
       "      <th>1</th>\n",
       "      <td>249453</td>\n",
       "      <td>9.355383</td>\n",
       "      <td>2.562027</td>\n",
       "      <td>4.228329</td>\n",
       "      <td>2.929286</td>\n",
       "      <td>11.139083</td>\n",
       "      <td>0</td>\n",
       "      <td>1</td>\n",
       "      <td>0</td>\n",
       "      <td>0</td>\n",
       "      <td>0</td>\n",
       "      <td>1</td>\n",
       "      <td>0</td>\n",
       "      <td>0</td>\n",
       "      <td>0</td>\n",
       "      <td>1</td>\n",
       "      <td>0</td>\n",
       "    </tr>\n",
       "    <tr>\n",
       "      <th>2</th>\n",
       "      <td>681116</td>\n",
       "      <td>11.908196</td>\n",
       "      <td>2.239518</td>\n",
       "      <td>6.445757</td>\n",
       "      <td>4.617511</td>\n",
       "      <td>16.425116</td>\n",
       "      <td>0</td>\n",
       "      <td>1</td>\n",
       "      <td>0</td>\n",
       "      <td>0</td>\n",
       "      <td>1</td>\n",
       "      <td>0</td>\n",
       "      <td>0</td>\n",
       "      <td>0</td>\n",
       "      <td>1</td>\n",
       "      <td>0</td>\n",
       "      <td>0</td>\n",
       "    </tr>\n",
       "    <tr>\n",
       "      <th>3</th>\n",
       "      <td>387253</td>\n",
       "      <td>16.247662</td>\n",
       "      <td>1.048771</td>\n",
       "      <td>9.103484</td>\n",
       "      <td>4.432092</td>\n",
       "      <td>24.679608</td>\n",
       "      <td>1</td>\n",
       "      <td>0</td>\n",
       "      <td>0</td>\n",
       "      <td>0</td>\n",
       "      <td>0</td>\n",
       "      <td>1</td>\n",
       "      <td>0</td>\n",
       "      <td>0</td>\n",
       "      <td>0</td>\n",
       "      <td>1</td>\n",
       "      <td>0</td>\n",
       "    </tr>\n",
       "    <tr>\n",
       "      <th>4</th>\n",
       "      <td>1428029</td>\n",
       "      <td>16.196768</td>\n",
       "      <td>3.674061</td>\n",
       "      <td>9.421646</td>\n",
       "      <td>6.753267</td>\n",
       "      <td>22.549205</td>\n",
       "      <td>0</td>\n",
       "      <td>1</td>\n",
       "      <td>0</td>\n",
       "      <td>0</td>\n",
       "      <td>0</td>\n",
       "      <td>1</td>\n",
       "      <td>0</td>\n",
       "      <td>0</td>\n",
       "      <td>0</td>\n",
       "      <td>0</td>\n",
       "      <td>1</td>\n",
       "    </tr>\n",
       "  </tbody>\n",
       "</table>\n",
       "</div>"
      ],
      "text/plain": [
       "   Unique_ID   BC_Views  BC_Comments  BC_Likes  BC_Popularity  BC_Followers  \\\n",
       "0     413890  12.526992     1.503982  7.038090       4.683402     20.989877   \n",
       "1     249453   9.355383     2.562027  4.228329       2.929286     11.139083   \n",
       "2     681116  11.908196     2.239518  6.445757       4.617511     16.425116   \n",
       "3     387253  16.247662     1.048771  9.103484       4.432092     24.679608   \n",
       "4    1428029  16.196768     3.674061  9.421646       6.753267     22.549205   \n",
       "\n",
       "   Categorical_Genre_0  Categorical_Genre_1  Categorical_Genre_2  \\\n",
       "0                    0                    1                    0   \n",
       "1                    0                    1                    0   \n",
       "2                    0                    1                    0   \n",
       "3                    1                    0                    0   \n",
       "4                    0                    1                    0   \n",
       "\n",
       "   Categorical_Genre_3  Categorical_Year_0  Categorical_Year_1  \\\n",
       "0                    0                   0                   0   \n",
       "1                    0                   0                   1   \n",
       "2                    0                   1                   0   \n",
       "3                    0                   0                   1   \n",
       "4                    0                   0                   1   \n",
       "\n",
       "   Categorical_Year_2  Categorical_Month_0  Categorical_Month_1  \\\n",
       "0                   1                    0                    1   \n",
       "1                   0                    0                    0   \n",
       "2                   0                    0                    1   \n",
       "3                   0                    0                    0   \n",
       "4                   0                    0                    0   \n",
       "\n",
       "   Categorical_Month_2  Categorical_Month_3  \n",
       "0                    0                    0  \n",
       "1                    1                    0  \n",
       "2                    0                    0  \n",
       "3                    1                    0  \n",
       "4                    0                    1  "
      ]
     },
     "execution_count": 2,
     "metadata": {},
     "output_type": "execute_result"
    }
   ],
   "source": [
    "train_df = pd.read_csv(\"output/Processed_Train.csv\")\n",
    "test_df = pd.read_csv(\"output/Processed_Test.csv\")\n",
    "print(\"Dimension of training data: \", train_df.shape)\n",
    "print(\"Dimension of test data: \", test_df.shape)\n",
    "\n",
    "train_df.head()"
   ]
  },
  {
   "cell_type": "markdown",
   "metadata": {},
   "source": [
    "# II. Fit Machine Learning Models"
   ]
  },
  {
   "cell_type": "code",
   "execution_count": 3,
   "metadata": {},
   "outputs": [
    {
     "name": "stdout",
     "output_type": "stream",
     "text": [
      "{'Views': 0.054519416937160475, 'Comments': -0.08518700650406102, 'Likes': 0.03924831111411457, 'Popularity': 0.009233293336317148, 'Followers': 0.09194242326253005}\n",
      "['BC_Comments', 'BC_Likes', 'BC_Popularity', 'BC_Followers', 'Categorical_Genre_0', 'Categorical_Genre_1', 'Categorical_Genre_2', 'Categorical_Genre_3', 'Categorical_Year_0', 'Categorical_Year_1', 'Categorical_Year_2', 'Categorical_Month_0', 'Categorical_Month_1', 'Categorical_Month_2', 'Categorical_Month_3']\n"
     ]
    }
   ],
   "source": [
    "with open('output/boxcox_lambdas.json', 'r') as f:\n",
    "    boxcox_lambdas = json.load(f)\n",
    "print(boxcox_lambdas)\n",
    "\n",
    "# scores = ['neg_root_mean_squared_error']\n",
    "scores = ['neg_root_mean_squared_error']\n",
    "features = list(test_df.columns)\n",
    "features.remove('Unique_ID')\n",
    "print(features)"
   ]
  },
  {
   "cell_type": "markdown",
   "metadata": {},
   "source": [
    "## 2.1 Linear Regression"
   ]
  },
  {
   "cell_type": "code",
   "execution_count": 4,
   "metadata": {},
   "outputs": [
    {
     "name": "stdout",
     "output_type": "stream",
     "text": [
      "RMSE:  1.364793\n"
     ]
    }
   ],
   "source": [
    "linear_reg_worker = ModelWorker(LinearRegression(), scores, boxcox_lambdas)\n",
    "linear_reg_worker.fit(train_df[features], train_df['BC_Views'], features)"
   ]
  },
  {
   "cell_type": "markdown",
   "metadata": {},
   "source": [
    "## 2.2 Lasso"
   ]
  },
  {
   "cell_type": "code",
   "execution_count": 5,
   "metadata": {},
   "outputs": [
    {
     "name": "stdout",
     "output_type": "stream",
     "text": [
      "RMSE:  1.495735\n"
     ]
    }
   ],
   "source": [
    "lasso_worker = ModelWorker(Lasso(), scores, boxcox_lambdas)\n",
    "lasso_worker.fit(train_df[features], train_df['BC_Views'], features)"
   ]
  },
  {
   "cell_type": "code",
   "execution_count": 8,
   "metadata": {},
   "outputs": [
    {
     "name": "stdout",
     "output_type": "stream",
     "text": [
      "# Tuning hyper-parameters for neg_root_mean_squared_error\n",
      "\n",
      "Best parameters set found on development set:\n",
      "\n",
      "{'alpha': 0}\n",
      "\n",
      "Grid scores on development set:\n",
      "\n",
      "-1.363 (+/-0.121) for {'alpha': 0}\n",
      "-1.386 (+/-0.110) for {'alpha': 0.05}\n",
      "-1.427 (+/-0.093) for {'alpha': 0.1}\n",
      "-1.458 (+/-0.087) for {'alpha': 0.15}\n",
      "-1.464 (+/-0.087) for {'alpha': 0.2}\n",
      "Elapsed time: 7.6929 seconds\n",
      "\n"
     ]
    }
   ],
   "source": [
    "# lasso_params = {'alpha': [0, 0.2, 0.4, 0.6, 0.8, 1]}\n",
    "lasso_params = {'alpha': [0, 0.05, 0.1, 0.15, 0.2]}\n",
    "lasso_grid, best_score = lasso_worker.tune(lasso_params, train_df[features], train_df['BC_Views'], 5)"
   ]
  },
  {
   "cell_type": "markdown",
   "metadata": {},
   "source": [
    "## 2.3 Random Forest"
   ]
  },
  {
   "cell_type": "code",
   "execution_count": 10,
   "metadata": {},
   "outputs": [
    {
     "name": "stdout",
     "output_type": "stream",
     "text": [
      "RMSE:  0.726572\n"
     ]
    }
   ],
   "source": [
    "rf_worker = ModelWorker(RandomForestRegressor(), scores, boxcox_lambdas)\n",
    "rf_worker.fit(train_df[features], train_df['BC_Views'], features)"
   ]
  },
  {
   "cell_type": "markdown",
   "metadata": {},
   "source": [
    "# III. Predict on Test Data"
   ]
  },
  {
   "cell_type": "code",
   "execution_count": 11,
   "metadata": {},
   "outputs": [
    {
     "name": "stdout",
     "output_type": "stream",
     "text": [
      "Fitted model:  RandomForestRegressor(bootstrap=True, ccp_alpha=0.0, criterion='mse',\n",
      "                      max_depth=None, max_features='auto', max_leaf_nodes=None,\n",
      "                      max_samples=None, min_impurity_decrease=0.0,\n",
      "                      min_impurity_split=None, min_samples_leaf=1,\n",
      "                      min_samples_split=2, min_weight_fraction_leaf=0.0,\n",
      "                      n_estimators=100, n_jobs=None, oob_score=False,\n",
      "                      random_state=None, verbose=0, warm_start=False)\n"
     ]
    },
    {
     "data": {
      "text/html": [
       "<div>\n",
       "<style scoped>\n",
       "    .dataframe tbody tr th:only-of-type {\n",
       "        vertical-align: middle;\n",
       "    }\n",
       "\n",
       "    .dataframe tbody tr th {\n",
       "        vertical-align: top;\n",
       "    }\n",
       "\n",
       "    .dataframe thead th {\n",
       "        text-align: right;\n",
       "    }\n",
       "</style>\n",
       "<table border=\"1\" class=\"dataframe\">\n",
       "  <thead>\n",
       "    <tr style=\"text-align: right;\">\n",
       "      <th></th>\n",
       "      <th>Unique_ID</th>\n",
       "      <th>BC_Comments</th>\n",
       "      <th>BC_Likes</th>\n",
       "      <th>BC_Popularity</th>\n",
       "      <th>BC_Followers</th>\n",
       "      <th>Categorical_Genre_0</th>\n",
       "      <th>Categorical_Genre_1</th>\n",
       "      <th>Categorical_Genre_2</th>\n",
       "      <th>Categorical_Genre_3</th>\n",
       "      <th>Categorical_Year_0</th>\n",
       "      <th>Categorical_Year_1</th>\n",
       "      <th>Categorical_Year_2</th>\n",
       "      <th>Categorical_Month_0</th>\n",
       "      <th>Categorical_Month_1</th>\n",
       "      <th>Categorical_Month_2</th>\n",
       "      <th>Categorical_Month_3</th>\n",
       "      <th>BC_Views</th>\n",
       "      <th>Views</th>\n",
       "    </tr>\n",
       "  </thead>\n",
       "  <tbody>\n",
       "    <tr>\n",
       "      <th>0</th>\n",
       "      <td>562546</td>\n",
       "      <td>2.873587</td>\n",
       "      <td>10.228781</td>\n",
       "      <td>4.886136</td>\n",
       "      <td>11.510119</td>\n",
       "      <td>1</td>\n",
       "      <td>0</td>\n",
       "      <td>0</td>\n",
       "      <td>0</td>\n",
       "      <td>0</td>\n",
       "      <td>0</td>\n",
       "      <td>1</td>\n",
       "      <td>1</td>\n",
       "      <td>0</td>\n",
       "      <td>0</td>\n",
       "      <td>0</td>\n",
       "      <td>18.139937</td>\n",
       "      <td>300261</td>\n",
       "    </tr>\n",
       "    <tr>\n",
       "      <th>1</th>\n",
       "      <td>907584</td>\n",
       "      <td>2.604197</td>\n",
       "      <td>7.540543</td>\n",
       "      <td>5.408842</td>\n",
       "      <td>21.772020</td>\n",
       "      <td>0</td>\n",
       "      <td>1</td>\n",
       "      <td>0</td>\n",
       "      <td>0</td>\n",
       "      <td>1</td>\n",
       "      <td>0</td>\n",
       "      <td>0</td>\n",
       "      <td>0</td>\n",
       "      <td>1</td>\n",
       "      <td>0</td>\n",
       "      <td>0</td>\n",
       "      <td>13.977131</td>\n",
       "      <td>32536</td>\n",
       "    </tr>\n",
       "    <tr>\n",
       "      <th>2</th>\n",
       "      <td>213013</td>\n",
       "      <td>2.604197</td>\n",
       "      <td>6.712778</td>\n",
       "      <td>4.672703</td>\n",
       "      <td>17.137847</td>\n",
       "      <td>0</td>\n",
       "      <td>1</td>\n",
       "      <td>0</td>\n",
       "      <td>0</td>\n",
       "      <td>1</td>\n",
       "      <td>0</td>\n",
       "      <td>0</td>\n",
       "      <td>0</td>\n",
       "      <td>0</td>\n",
       "      <td>0</td>\n",
       "      <td>1</td>\n",
       "      <td>12.583654</td>\n",
       "      <td>14497</td>\n",
       "    </tr>\n",
       "    <tr>\n",
       "      <th>3</th>\n",
       "      <td>340312</td>\n",
       "      <td>0.673080</td>\n",
       "      <td>6.719291</td>\n",
       "      <td>3.037549</td>\n",
       "      <td>27.072515</td>\n",
       "      <td>1</td>\n",
       "      <td>0</td>\n",
       "      <td>0</td>\n",
       "      <td>0</td>\n",
       "      <td>1</td>\n",
       "      <td>0</td>\n",
       "      <td>0</td>\n",
       "      <td>0</td>\n",
       "      <td>0</td>\n",
       "      <td>1</td>\n",
       "      <td>0</td>\n",
       "      <td>13.828404</td>\n",
       "      <td>29896</td>\n",
       "    </tr>\n",
       "    <tr>\n",
       "      <th>4</th>\n",
       "      <td>41854</td>\n",
       "      <td>0.000000</td>\n",
       "      <td>4.781418</td>\n",
       "      <td>0.695370</td>\n",
       "      <td>1.156013</td>\n",
       "      <td>0</td>\n",
       "      <td>0</td>\n",
       "      <td>0</td>\n",
       "      <td>1</td>\n",
       "      <td>0</td>\n",
       "      <td>0</td>\n",
       "      <td>1</td>\n",
       "      <td>0</td>\n",
       "      <td>0</td>\n",
       "      <td>1</td>\n",
       "      <td>0</td>\n",
       "      <td>10.700846</td>\n",
       "      <td>4580</td>\n",
       "    </tr>\n",
       "  </tbody>\n",
       "</table>\n",
       "</div>"
      ],
      "text/plain": [
       "   Unique_ID  BC_Comments   BC_Likes  BC_Popularity  BC_Followers  \\\n",
       "0     562546     2.873587  10.228781       4.886136     11.510119   \n",
       "1     907584     2.604197   7.540543       5.408842     21.772020   \n",
       "2     213013     2.604197   6.712778       4.672703     17.137847   \n",
       "3     340312     0.673080   6.719291       3.037549     27.072515   \n",
       "4      41854     0.000000   4.781418       0.695370      1.156013   \n",
       "\n",
       "   Categorical_Genre_0  Categorical_Genre_1  Categorical_Genre_2  \\\n",
       "0                    1                    0                    0   \n",
       "1                    0                    1                    0   \n",
       "2                    0                    1                    0   \n",
       "3                    1                    0                    0   \n",
       "4                    0                    0                    0   \n",
       "\n",
       "   Categorical_Genre_3  Categorical_Year_0  Categorical_Year_1  \\\n",
       "0                    0                   0                   0   \n",
       "1                    0                   1                   0   \n",
       "2                    0                   1                   0   \n",
       "3                    0                   1                   0   \n",
       "4                    1                   0                   0   \n",
       "\n",
       "   Categorical_Year_2  Categorical_Month_0  Categorical_Month_1  \\\n",
       "0                   1                    1                    0   \n",
       "1                   0                    0                    1   \n",
       "2                   0                    0                    0   \n",
       "3                   0                    0                    0   \n",
       "4                   1                    0                    0   \n",
       "\n",
       "   Categorical_Month_2  Categorical_Month_3   BC_Views   Views  \n",
       "0                    0                    0  18.139937  300261  \n",
       "1                    0                    0  13.977131   32536  \n",
       "2                    0                    1  12.583654   14497  \n",
       "3                    1                    0  13.828404   29896  \n",
       "4                    1                    0  10.700846    4580  "
      ]
     },
     "execution_count": 11,
     "metadata": {},
     "output_type": "execute_result"
    }
   ],
   "source": [
    "result = rf_worker.predict(train_df, train_df['BC_Views'], test_df, features)\n",
    "result['Views'] = result['Views'].round().astype(int)\n",
    "result.head()"
   ]
  },
  {
   "cell_type": "code",
   "execution_count": 12,
   "metadata": {},
   "outputs": [],
   "source": [
    "result[['Unique_ID', 'Views']].to_excel('output/submission_20200112_1.xlsx', index=False)"
   ]
  },
  {
   "cell_type": "code",
   "execution_count": 13,
   "metadata": {},
   "outputs": [
    {
     "data": {
      "text/plain": [
       "['accuracy',\n",
       " 'adjusted_mutual_info_score',\n",
       " 'adjusted_rand_score',\n",
       " 'average_precision',\n",
       " 'balanced_accuracy',\n",
       " 'completeness_score',\n",
       " 'explained_variance',\n",
       " 'f1',\n",
       " 'f1_macro',\n",
       " 'f1_micro',\n",
       " 'f1_samples',\n",
       " 'f1_weighted',\n",
       " 'fowlkes_mallows_score',\n",
       " 'homogeneity_score',\n",
       " 'jaccard',\n",
       " 'jaccard_macro',\n",
       " 'jaccard_micro',\n",
       " 'jaccard_samples',\n",
       " 'jaccard_weighted',\n",
       " 'max_error',\n",
       " 'mutual_info_score',\n",
       " 'neg_brier_score',\n",
       " 'neg_log_loss',\n",
       " 'neg_mean_absolute_error',\n",
       " 'neg_mean_gamma_deviance',\n",
       " 'neg_mean_poisson_deviance',\n",
       " 'neg_mean_squared_error',\n",
       " 'neg_mean_squared_log_error',\n",
       " 'neg_median_absolute_error',\n",
       " 'neg_root_mean_squared_error',\n",
       " 'normalized_mutual_info_score',\n",
       " 'precision',\n",
       " 'precision_macro',\n",
       " 'precision_micro',\n",
       " 'precision_samples',\n",
       " 'precision_weighted',\n",
       " 'r2',\n",
       " 'recall',\n",
       " 'recall_macro',\n",
       " 'recall_micro',\n",
       " 'recall_samples',\n",
       " 'recall_weighted',\n",
       " 'roc_auc',\n",
       " 'roc_auc_ovo',\n",
       " 'roc_auc_ovo_weighted',\n",
       " 'roc_auc_ovr',\n",
       " 'roc_auc_ovr_weighted',\n",
       " 'v_measure_score']"
      ]
     },
     "execution_count": 13,
     "metadata": {},
     "output_type": "execute_result"
    }
   ],
   "source": [
    "import sklearn\n",
    "\n",
    "sorted(sklearn.metrics.SCORERS.keys())"
   ]
  },
  {
   "cell_type": "code",
   "execution_count": null,
   "metadata": {},
   "outputs": [],
   "source": []
  }
 ],
 "metadata": {
  "kernelspec": {
   "display_name": "Python 3",
   "language": "python",
   "name": "python3"
  },
  "language_info": {
   "codemirror_mode": {
    "name": "ipython",
    "version": 3
   },
   "file_extension": ".py",
   "mimetype": "text/x-python",
   "name": "python",
   "nbconvert_exporter": "python",
   "pygments_lexer": "ipython3",
   "version": "3.7.0"
  }
 },
 "nbformat": 4,
 "nbformat_minor": 2
}
